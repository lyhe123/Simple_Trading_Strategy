{
 "cells": [
  {
   "cell_type": "code",
   "execution_count": 65,
   "metadata": {},
   "outputs": [],
   "source": [
    "import pandas as pd\n",
    "import numpy as np\n",
    "import os\n",
    "import sklearn.preprocessing"
   ]
  },
  {
   "cell_type": "code",
   "execution_count": 66,
   "metadata": {},
   "outputs": [],
   "source": [
    "path = r'/Users/sujiaqi/Desktop/last semester courses/jgl/project/ticks_201910'\n",
    "list_VXX = []\n",
    "list_SPY = []\n",
    "for (root, dirs, files) in os.walk(path):\n",
    "    for file in files:\n",
    "        Dr_type = file.split(\"_\")[1]\n",
    "        #print(Dr_type)\n",
    "        if Dr_type == 'VXX':\n",
    "            list_VXX.append(file)\n",
    "        elif Dr_type == 'SPY':\n",
    "            list_SPY.append(file)\n",
    "#data = pd.read_csv(path + 'tick_VXX_20191010.txt', header = None)"
   ]
  },
  {
   "cell_type": "code",
   "execution_count": 67,
   "metadata": {},
   "outputs": [],
   "source": [
    "list_SPY.sort()\n",
    "list_VXX.sort()"
   ]
  },
  {
   "cell_type": "code",
   "execution_count": 68,
   "metadata": {},
   "outputs": [],
   "source": [
    "prices_VXX = []\n",
    "times_VXX = []\n",
    "for vxx in list_VXX:\n",
    "    data = pd.read_csv(path + os.sep + vxx, header = None)\n",
    "    price = data.iloc[:, 5]\n",
    "    dates = data.iloc[:, 0]\n",
    "    for i in range(0, len(price)):\n",
    "        prices_VXX.append(price[i])\n",
    "        #times_VXX.append(dates[i].split(\" \")[1].split(\".\")[0])\n",
    "        times_VXX.append(dates[i].split(\".\")[0])"
   ]
  },
  {
   "cell_type": "code",
   "execution_count": 69,
   "metadata": {},
   "outputs": [
    {
     "data": {
      "text/plain": [
       "37840"
      ]
     },
     "execution_count": 69,
     "metadata": {},
     "output_type": "execute_result"
    }
   ],
   "source": [
    "len(times_VXX)\n"
   ]
  },
  {
   "cell_type": "code",
   "execution_count": 70,
   "metadata": {},
   "outputs": [],
   "source": [
    "prices_SPY = []\n",
    "times_SPY = []\n",
    "for spy in list_SPY:\n",
    "    data = pd.read_csv(path + os.sep + spy, header = None)\n",
    "    price = data.iloc[:, 5]\n",
    "    dates = data.iloc[:, 0]\n",
    "    for i in range(0, len(price)):\n",
    "        prices_SPY.append(price[i])\n",
    "        times_SPY.append(dates[i].split(\".\")[0])"
   ]
  },
  {
   "cell_type": "code",
   "execution_count": 74,
   "metadata": {},
   "outputs": [],
   "source": [
    "len(times_SPY)\n",
    "prices_SPY = sklearn.preprocessing.scale(prices_SPY)\n",
    "prices_VXX = sklearn.preprocessing.scale(prices_VXX)"
   ]
  },
  {
   "cell_type": "code",
   "execution_count": 75,
   "metadata": {
    "scrolled": true
   },
   "outputs": [],
   "source": [
    "df_VXX = pd.DataFrame(list(zip(pd.to_datetime(times_VXX), prices_VXX)), \n",
    "               columns =['Date', 'Price'])\n",
    "\n",
    "df_SPY = pd.DataFrame(list(zip(pd.to_datetime(times_SPY), prices_SPY)), \n",
    "               columns =['Date', 'Price'])"
   ]
  },
  {
   "cell_type": "code",
   "execution_count": 76,
   "metadata": {},
   "outputs": [
    {
     "data": {
      "text/plain": [
       "Date     datetime64[ns]\n",
       "Price           float64\n",
       "dtype: object"
      ]
     },
     "execution_count": 76,
     "metadata": {},
     "output_type": "execute_result"
    }
   ],
   "source": [
    "df_VXX.dtypes"
   ]
  },
  {
   "cell_type": "code",
   "execution_count": 77,
   "metadata": {},
   "outputs": [
    {
     "data": {
      "text/html": [
       "<div>\n",
       "<style scoped>\n",
       "    .dataframe tbody tr th:only-of-type {\n",
       "        vertical-align: middle;\n",
       "    }\n",
       "\n",
       "    .dataframe tbody tr th {\n",
       "        vertical-align: top;\n",
       "    }\n",
       "\n",
       "    .dataframe thead th {\n",
       "        text-align: right;\n",
       "    }\n",
       "</style>\n",
       "<table border=\"1\" class=\"dataframe\">\n",
       "  <thead>\n",
       "    <tr style=\"text-align: right;\">\n",
       "      <th></th>\n",
       "      <th>Date</th>\n",
       "      <th>Price</th>\n",
       "    </tr>\n",
       "  </thead>\n",
       "  <tbody>\n",
       "    <tr>\n",
       "      <th>37837</th>\n",
       "      <td>2019-11-01 19:59:28</td>\n",
       "      <td>-1.566239</td>\n",
       "    </tr>\n",
       "    <tr>\n",
       "      <th>37838</th>\n",
       "      <td>2019-11-01 19:59:29</td>\n",
       "      <td>-1.566239</td>\n",
       "    </tr>\n",
       "    <tr>\n",
       "      <th>37839</th>\n",
       "      <td>2019-11-01 19:59:33</td>\n",
       "      <td>-1.566239</td>\n",
       "    </tr>\n",
       "  </tbody>\n",
       "</table>\n",
       "</div>"
      ],
      "text/plain": [
       "                     Date     Price\n",
       "37837 2019-11-01 19:59:28 -1.566239\n",
       "37838 2019-11-01 19:59:29 -1.566239\n",
       "37839 2019-11-01 19:59:33 -1.566239"
      ]
     },
     "execution_count": 77,
     "metadata": {},
     "output_type": "execute_result"
    }
   ],
   "source": [
    "df_VXX.tail(3)"
   ]
  },
  {
   "cell_type": "code",
   "execution_count": 78,
   "metadata": {},
   "outputs": [
    {
     "data": {
      "text/html": [
       "<div>\n",
       "<style scoped>\n",
       "    .dataframe tbody tr th:only-of-type {\n",
       "        vertical-align: middle;\n",
       "    }\n",
       "\n",
       "    .dataframe tbody tr th {\n",
       "        vertical-align: top;\n",
       "    }\n",
       "\n",
       "    .dataframe thead th {\n",
       "        text-align: right;\n",
       "    }\n",
       "</style>\n",
       "<table border=\"1\" class=\"dataframe\">\n",
       "  <thead>\n",
       "    <tr style=\"text-align: right;\">\n",
       "      <th></th>\n",
       "      <th>Date</th>\n",
       "      <th>Price</th>\n",
       "    </tr>\n",
       "  </thead>\n",
       "  <tbody>\n",
       "    <tr>\n",
       "      <th>0</th>\n",
       "      <td>2019-10-01 13:30:00</td>\n",
       "      <td>0.266302</td>\n",
       "    </tr>\n",
       "    <tr>\n",
       "      <th>1</th>\n",
       "      <td>2019-10-01 13:30:00</td>\n",
       "      <td>0.266302</td>\n",
       "    </tr>\n",
       "    <tr>\n",
       "      <th>2</th>\n",
       "      <td>2019-10-01 13:30:00</td>\n",
       "      <td>0.266302</td>\n",
       "    </tr>\n",
       "  </tbody>\n",
       "</table>\n",
       "</div>"
      ],
      "text/plain": [
       "                 Date     Price\n",
       "0 2019-10-01 13:30:00  0.266302\n",
       "1 2019-10-01 13:30:00  0.266302\n",
       "2 2019-10-01 13:30:00  0.266302"
      ]
     },
     "execution_count": 78,
     "metadata": {},
     "output_type": "execute_result"
    }
   ],
   "source": [
    "df_VXX.head(3)"
   ]
  },
  {
   "cell_type": "code",
   "execution_count": 79,
   "metadata": {},
   "outputs": [
    {
     "data": {
      "text/html": [
       "<div>\n",
       "<style scoped>\n",
       "    .dataframe tbody tr th:only-of-type {\n",
       "        vertical-align: middle;\n",
       "    }\n",
       "\n",
       "    .dataframe tbody tr th {\n",
       "        vertical-align: top;\n",
       "    }\n",
       "\n",
       "    .dataframe thead th {\n",
       "        text-align: right;\n",
       "    }\n",
       "</style>\n",
       "<table border=\"1\" class=\"dataframe\">\n",
       "  <thead>\n",
       "    <tr style=\"text-align: right;\">\n",
       "      <th></th>\n",
       "      <th>Price</th>\n",
       "    </tr>\n",
       "    <tr>\n",
       "      <th>Date</th>\n",
       "      <th></th>\n",
       "    </tr>\n",
       "  </thead>\n",
       "  <tbody>\n",
       "    <tr>\n",
       "      <th>2019-10-01 13:30:00</th>\n",
       "      <td>0.266302</td>\n",
       "    </tr>\n",
       "    <tr>\n",
       "      <th>2019-10-01 13:30:00</th>\n",
       "      <td>0.266302</td>\n",
       "    </tr>\n",
       "    <tr>\n",
       "      <th>2019-10-01 13:30:00</th>\n",
       "      <td>0.266302</td>\n",
       "    </tr>\n",
       "  </tbody>\n",
       "</table>\n",
       "</div>"
      ],
      "text/plain": [
       "                        Price\n",
       "Date                         \n",
       "2019-10-01 13:30:00  0.266302\n",
       "2019-10-01 13:30:00  0.266302\n",
       "2019-10-01 13:30:00  0.266302"
      ]
     },
     "execution_count": 79,
     "metadata": {},
     "output_type": "execute_result"
    }
   ],
   "source": [
    "df_VXX = df_VXX.set_index('Date')\n",
    "df_VXX.head(3)"
   ]
  },
  {
   "cell_type": "code",
   "execution_count": 80,
   "metadata": {},
   "outputs": [],
   "source": [
    "df_SPY = df_SPY.set_index('Date')"
   ]
  },
  {
   "cell_type": "code",
   "execution_count": 103,
   "metadata": {},
   "outputs": [
    {
     "data": {
      "text/plain": [
       "<matplotlib.axes._subplots.AxesSubplot at 0x7fbcd4515240>"
      ]
     },
     "execution_count": 103,
     "metadata": {},
     "output_type": "execute_result"
    },
    {
     "data": {
      "image/png": "[encoded data removed]",
      "text/plain": [
       "<Figure size 432x288 with 1 Axes>"
      ]
     },
     "metadata": {
      "needs_background": "light"
     },
     "output_type": "display_data"
    }
   ],
   "source": [
    "import matplotlib.pyplot as plt\n",
    "#plt.plot(df_SPY['Price'][100:1000], df_SPY['Date'][100:1000], color='blue')\n",
    "#plt.plot(df_VXX['Price'][:300], color='red')\n",
    "df_SPY['Price'][100:1000].plot(color='blue')\n",
    "df_VXX['Price'][:300].plot(color='red')"
   ]
  },
  {
   "cell_type": "code",
   "execution_count": 15,
   "metadata": {},
   "outputs": [],
   "source": [
    "changes_SPY = []\n",
    "for i in range(0, len(prices_SPY)-1):\n",
    "    change = abs((prices_SPY[i+1] - prices_SPY[i])/prices_SPY[i])\n",
    "    changes_SPY.append(change)"
   ]
  },
  {
   "cell_type": "code",
   "execution_count": 16,
   "metadata": {},
   "outputs": [],
   "source": [
    "changes_VXX = []\n",
    "for i in range(0, len(prices_VXX)-1):\n",
    "    change = abs((prices_VXX[i+1] - prices_VXX[i])/prices_VXX[i])\n",
    "    changes_VXX.append(change)"
   ]
  },
  {
   "cell_type": "code",
   "execution_count": 57,
   "metadata": {},
   "outputs": [],
   "source": [
    "L_VXX = []\n",
    "for i in range(0, len(changes_VXX)):\n",
    "    if changes_VXX[i] > 0.006:\n",
    "        L_VXX.append(i)"
   ]
  },
  {
   "cell_type": "code",
   "execution_count": 58,
   "metadata": {},
   "outputs": [
    {
     "data": {
      "text/plain": [
       "30"
      ]
     },
     "execution_count": 58,
     "metadata": {},
     "output_type": "execute_result"
    }
   ],
   "source": [
    "len(L_VXX)"
   ]
  },
  {
   "cell_type": "code",
   "execution_count": 59,
   "metadata": {},
   "outputs": [],
   "source": [
    "L_SPY = []\n",
    "for i in range(0, len(changes_SPY)):\n",
    "    if changes_SPY[i] > 0.001:\n",
    "        L_SPY.append(i)"
   ]
  },
  {
   "cell_type": "code",
   "execution_count": 60,
   "metadata": {},
   "outputs": [
    {
     "data": {
      "text/plain": [
       "35"
      ]
     },
     "execution_count": 60,
     "metadata": {},
     "output_type": "execute_result"
    }
   ],
   "source": [
    "len(L_SPY)"
   ]
  },
  {
   "cell_type": "code",
   "execution_count": 52,
   "metadata": {},
   "outputs": [],
   "source": [
    "T_VXX = []\n",
    "T_SPY = []\n",
    "for i in range(0, len(L_VXX)):\n",
    "    T_VXX.append(times_VXX[L_VXX[i]])\n",
    "for i in range(0, len(L_SPY)):\n",
    "    T_SPY.append(times_SPY[L_SPY[i]])"
   ]
  },
  {
   "cell_type": "code",
   "execution_count": 53,
   "metadata": {},
   "outputs": [
    {
     "data": {
      "text/plain": [
       "['2019-10-01 14:06:46',\n",
       " '2019-10-01 20:13:37',\n",
       " '2019-10-03 13:59:39',\n",
       " '2019-10-03 14:00:15',\n",
       " '2019-10-03 20:00:03',\n",
       " '2019-10-04 13:31:03',\n",
       " '2019-10-04 20:19:39',\n",
       " '2019-10-07 14:58:16',\n",
       " '2019-10-08 15:14:06',\n",
       " '2019-10-08 18:57:36',\n",
       " '2019-10-08 20:14:17',\n",
       " '2019-10-08 20:54:48',\n",
       " '2019-10-09 15:13:59',\n",
       " '2019-10-10 20:00:24',\n",
       " '2019-10-10 20:40:42',\n",
       " '2019-10-14 19:59:49',\n",
       " '2019-10-14 20:18:50',\n",
       " '2019-10-16 19:59:58',\n",
       " '2019-10-17 13:31:24',\n",
       " '2019-10-17 20:13:57',\n",
       " '2019-10-18 19:59:54',\n",
       " '2019-10-21 19:59:51',\n",
       " '2019-10-22 19:59:53',\n",
       " '2019-10-23 19:59:44',\n",
       " '2019-10-24 15:47:02',\n",
       " '2019-10-24 19:59:50',\n",
       " '2019-10-25 20:14:45',\n",
       " '2019-10-28 19:59:48',\n",
       " '2019-10-30 19:59:56',\n",
       " '2019-10-31 19:59:49']"
      ]
     },
     "execution_count": 53,
     "metadata": {},
     "output_type": "execute_result"
    }
   ],
   "source": [
    "T_VXX"
   ]
  },
  {
   "cell_type": "code",
   "execution_count": 54,
   "metadata": {},
   "outputs": [
    {
     "data": {
      "text/plain": [
       "['2019-10-01 20:42:13',\n",
       " '2019-10-02 20:05:09',\n",
       " '2019-10-03 14:00:00',\n",
       " '2019-10-03 14:00:00',\n",
       " '2019-10-03 14:00:00',\n",
       " '2019-10-03 14:00:00',\n",
       " '2019-10-03 14:26:17',\n",
       " '2019-10-03 20:05:41',\n",
       " '2019-10-04 12:15:51',\n",
       " '2019-10-04 20:26:30',\n",
       " '2019-10-07 14:57:52',\n",
       " '2019-10-08 20:56:33',\n",
       " '2019-10-09 15:13:56',\n",
       " '2019-10-10 13:21:58',\n",
       " '2019-10-10 20:14:00',\n",
       " '2019-10-10 20:34:41',\n",
       " '2019-10-10 20:56:46',\n",
       " '2019-10-11 17:26:50',\n",
       " '2019-10-11 20:39:58',\n",
       " '2019-10-14 20:43:49',\n",
       " '2019-10-15 20:31:02',\n",
       " '2019-10-16 12:42:51',\n",
       " '2019-10-16 20:39:38',\n",
       " '2019-10-18 13:02:49',\n",
       " '2019-10-18 20:44:22',\n",
       " '2019-10-21 20:42:28',\n",
       " '2019-10-22 20:18:56',\n",
       " '2019-10-22 20:46:14',\n",
       " '2019-10-23 20:56:44',\n",
       " '2019-10-24 20:01:54',\n",
       " '2019-10-25 20:40:24',\n",
       " '2019-10-30 18:00:01',\n",
       " '2019-10-30 18:00:01',\n",
       " '2019-10-30 20:54:10',\n",
       " '2019-10-31 20:45:02']"
      ]
     },
     "execution_count": 54,
     "metadata": {},
     "output_type": "execute_result"
    }
   ],
   "source": [
    "T_SPY"
   ]
  },
  {
   "cell_type": "code",
   "execution_count": 61,
   "metadata": {},
   "outputs": [
    {
     "data": {
      "text/plain": [
       "<matplotlib.axes._subplots.AxesSubplot at 0x7fbcec092860>"
      ]
     },
     "execution_count": 61,
     "metadata": {},
     "output_type": "execute_result"
    },
    {
     "data": {
      "image/png": "[encoded data removed]",
      "text/plain": [
       "<Figure size 432x288 with 1 Axes>"
      ]
     },
     "metadata": {
      "needs_background": "light"
     },
     "output_type": "display_data"
    }
   ],
   "source": [
    "df_SPY['Price'].plot(color='blue')"
   ]
  },
  {
   "cell_type": "code",
   "execution_count": 62,
   "metadata": {},
   "outputs": [
    {
     "data": {
      "text/plain": [
       "<matplotlib.axes._subplots.AxesSubplot at 0x7fbceae87320>"
      ]
     },
     "execution_count": 62,
     "metadata": {},
     "output_type": "execute_result"
    },
    {
     "data": {
      "image/png": "[encoded data removed]",
      "text/plain": [
       "<Figure size 432x288 with 1 Axes>"
      ]
     },
     "metadata": {
      "needs_background": "light"
     },
     "output_type": "display_data"
    }
   ],
   "source": [
    "df_VXX['Price'].plot(color='red')"
   ]
  },
  {
   "cell_type": "code",
   "execution_count": null,
   "metadata": {},
   "outputs": [],
   "source": []
  },
  {
   "cell_type": "code",
   "execution_count": null,
   "metadata": {},
   "outputs": [],
   "source": []
  }
 ],
 "metadata": {
  "kernelspec": {
   "display_name": "Python 3",
   "language": "python",
   "name": "python3"
  },
  "language_info": {
   "codemirror_mode": {
    "name": "ipython",
    "version": 3
   },
   "file_extension": ".py",
   "mimetype": "text/x-python",
   "name": "python",
   "nbconvert_exporter": "python",
   "pygments_lexer": "ipython3",
   "version": "3.7.3"
  }
 },
 "nbformat": 4,
 "nbformat_minor": 2
}
