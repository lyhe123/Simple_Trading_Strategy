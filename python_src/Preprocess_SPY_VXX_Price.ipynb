{
 "cells": [
  {
   "cell_type": "code",
   "execution_count": 1,
   "metadata": {},
   "outputs": [],
   "source": [
    "import pandas as pd\n",
    "import numpy as np\n",
    "import os\n",
    "import sklearn.preprocessing"
   ]
  },
  {
   "cell_type": "code",
   "execution_count": 2,
   "metadata": {},
   "outputs": [],
   "source": [
    "# to show the whole datafram when use .head()\n",
    "pd.set_option('display.max_columns',1000)\n",
    "pd.set_option('display.max_rows',1000)\n",
    "pd.set_option('display.width', 10000)"
   ]
  },
  {
   "cell_type": "code",
   "execution_count": 3,
   "metadata": {},
   "outputs": [],
   "source": [
    "path = 'ticks_201910/'"
   ]
  },
  {
   "cell_type": "code",
   "execution_count": 8,
   "metadata": {},
   "outputs": [],
   "source": [
    "#path = r'/Users/sujiaqi/Desktop/last semester courses/jgl/project/ticks_201910'\n",
    "list_VXX = []\n",
    "list_SPY = []\n",
    "list_VXX_date = []\n",
    "list_SPY_date = []\n",
    "for (root, dirs, files) in os.walk(path):\n",
    "    for file in files:\n",
    "        Dr_type = file.split(\"_\")[1]\n",
    "        #print(Dr_type)\n",
    "        if Dr_type == 'VXX':\n",
    "            list_VXX.append(file)\n",
    "            date = file.split(\"_\")[2].split(\".\")[0]\n",
    "            list_VXX_date.append(date)\n",
    "        elif Dr_type == 'SPY':\n",
    "            list_SPY.append(file)\n",
    "            date = file.split(\"_\")[2].split(\".\")[0]\n",
    "            list_SPY_date.append(date)"
   ]
  },
  {
   "cell_type": "code",
   "execution_count": 10,
   "metadata": {},
   "outputs": [],
   "source": [
    "list_SPY.sort()\n",
    "list_VXX.sort()\n",
    "list_SPY_date.sort()\n",
    "list_VXX_date.sort()"
   ]
  },
  {
   "cell_type": "code",
   "execution_count": 13,
   "metadata": {
    "scrolled": true
   },
   "outputs": [],
   "source": [
    "for date in list_SPY_date:\n",
    "    vxx_df = pd.read_csv(path + 'tick_VXX_'+ date +'.txt', header = None)\n",
    "    spy_df = pd.read_csv(path + 'tick_SPY_'+ date +'.txt', header = None)\n",
    "    \n",
    "    vxx_df = vxx_df[[0,5]]\n",
    "    spy_df = spy_df[[0,5]]\n",
    "    \n",
    "    vxx_df.rename(columns={0:'date', 5:'price_vxx'}, inplace = True)\n",
    "    spy_df.rename(columns={0:'date', 5:'price_spy'}, inplace = True)\n",
    "    \n",
    "    spy_vxx_df = pd.merge(vxx_df, spy_df, on=['date'], how=\"outer\",sort=True)\n",
    "    \n",
    "    spy_vxx_df.ffill(axis = 0, inplace = True)\n",
    "    \n",
    "    spy_vxx_df.to_csv('spy_vxx_price_'+ date +'.csv')\n",
    "  "
   ]
  },
  {
   "cell_type": "code",
   "execution_count": 14,
   "metadata": {},
   "outputs": [
    {
     "data": {
      "text/plain": [
       "['20191001',\n",
       " '20191002',\n",
       " '20191003',\n",
       " '20191004',\n",
       " '20191007',\n",
       " '20191008',\n",
       " '20191009',\n",
       " '20191010',\n",
       " '20191011',\n",
       " '20191014',\n",
       " '20191015',\n",
       " '20191016',\n",
       " '20191017',\n",
       " '20191018',\n",
       " '20191021',\n",
       " '20191022',\n",
       " '20191023',\n",
       " '20191024',\n",
       " '20191025',\n",
       " '20191028',\n",
       " '20191029',\n",
       " '20191030',\n",
       " '20191031',\n",
       " '20191101']"
      ]
     },
     "execution_count": 14,
     "metadata": {},
     "output_type": "execute_result"
    }
   ],
   "source": [
    "list_VXX_date"
   ]
  },
  {
   "cell_type": "code",
   "execution_count": null,
   "metadata": {},
   "outputs": [],
   "source": []
  }
 ],
 "metadata": {
  "kernelspec": {
   "display_name": "Python 3",
   "language": "python",
   "name": "python3"
  },
  "language_info": {
   "codemirror_mode": {
    "name": "ipython",
    "version": 3
   },
   "file_extension": ".py",
   "mimetype": "text/x-python",
   "name": "python",
   "nbconvert_exporter": "python",
   "pygments_lexer": "ipython3",
   "version": "3.7.3"
  }
 },
 "nbformat": 4,
 "nbformat_minor": 2
}
