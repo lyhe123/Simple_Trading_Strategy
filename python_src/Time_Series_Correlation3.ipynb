{
 "cells": [
  {
   "cell_type": "code",
   "execution_count": 1,
   "metadata": {},
   "outputs": [],
   "source": [
    "import pandas as pd\n",
    "import numpy as np\n",
    "import os\n",
    "import sklearn.preprocessing"
   ]
  },
  {
   "cell_type": "code",
   "execution_count": 2,
   "metadata": {},
   "outputs": [],
   "source": [
    "path = r'/Users/sujiaqi/Desktop/last semester courses/jgl/project/ticks_201910'\n",
    "list_VXX = []\n",
    "list_SPY = []\n",
    "for (root, dirs, files) in os.walk(path):\n",
    "    for file in files:\n",
    "        Dr_type = file.split(\"_\")[1]\n",
    "        #print(Dr_type)\n",
    "        if Dr_type == 'VXX':\n",
    "            list_VXX.append(file)\n",
    "        elif Dr_type == 'SPY':\n",
    "            list_SPY.append(file)\n",
    "#data = pd.read_csv(path + 'tick_VXX_20191010.txt', header = None)"
   ]
  },
  {
   "cell_type": "code",
   "execution_count": 3,
   "metadata": {},
   "outputs": [],
   "source": [
    "list_SPY.sort()\n",
    "list_VXX.sort()"
   ]
  },
  {
   "cell_type": "code",
   "execution_count": 4,
   "metadata": {},
   "outputs": [],
   "source": [
    "prices_VXX = []\n",
    "times_VXX = []\n",
    "for vxx in list_VXX:\n",
    "    data = pd.read_csv(path + os.sep + vxx, header = None)\n",
    "    price = data.iloc[:, 5]\n",
    "    dates = data.iloc[:, 0]\n",
    "    for i in range(0, len(price)):\n",
    "        prices_VXX.append(price[i])\n",
    "        #times_VXX.append(dates[i].split(\" \")[1].split(\".\")[0])\n",
    "        times_VXX.append(dates[i].split(\".\")[0])\n",
    "        \n",
    "prices_SPY = []\n",
    "times_SPY = []\n",
    "for spy in list_SPY:\n",
    "    data = pd.read_csv(path + os.sep + spy, header = None)\n",
    "    price = data.iloc[:, 5]\n",
    "    dates = data.iloc[:, 0]\n",
    "    for i in range(0, len(price)):\n",
    "        prices_SPY.append(price[i])\n",
    "        times_SPY.append(dates[i].split(\".\")[0])"
   ]
  },
  {
   "cell_type": "code",
   "execution_count": 5,
   "metadata": {},
   "outputs": [],
   "source": [
    "prices_SPY_scaler = sklearn.preprocessing.scale(prices_SPY)\n",
    "prices_VXX_scaler = sklearn.preprocessing.scale(prices_VXX)"
   ]
  },
  {
   "cell_type": "code",
   "execution_count": 6,
   "metadata": {},
   "outputs": [],
   "source": [
    "df_VXX = pd.DataFrame(list(zip(pd.to_datetime(times_VXX), prices_VXX_scaler)), \n",
    "               columns =['Date', 'Price(scaled)'])\n",
    "\n",
    "df_SPY = pd.DataFrame(list(zip(pd.to_datetime(times_SPY), prices_SPY_scaler)), \n",
    "               columns =['Date', 'Price(scaled)'])"
   ]
  },
  {
   "cell_type": "code",
   "execution_count": 7,
   "metadata": {},
   "outputs": [
    {
     "data": {
      "text/html": [
       "<div>\n",
       "<style scoped>\n",
       "    .dataframe tbody tr th:only-of-type {\n",
       "        vertical-align: middle;\n",
       "    }\n",
       "\n",
       "    .dataframe tbody tr th {\n",
       "        vertical-align: top;\n",
       "    }\n",
       "\n",
       "    .dataframe thead th {\n",
       "        text-align: right;\n",
       "    }\n",
       "</style>\n",
       "<table border=\"1\" class=\"dataframe\">\n",
       "  <thead>\n",
       "    <tr style=\"text-align: right;\">\n",
       "      <th></th>\n",
       "      <th>Date</th>\n",
       "      <th>Price(scaled)</th>\n",
       "    </tr>\n",
       "  </thead>\n",
       "  <tbody>\n",
       "    <tr>\n",
       "      <th>0</th>\n",
       "      <td>2019-10-01 13:30:00</td>\n",
       "      <td>0.266302</td>\n",
       "    </tr>\n",
       "    <tr>\n",
       "      <th>1</th>\n",
       "      <td>2019-10-01 13:30:00</td>\n",
       "      <td>0.266302</td>\n",
       "    </tr>\n",
       "    <tr>\n",
       "      <th>2</th>\n",
       "      <td>2019-10-01 13:30:00</td>\n",
       "      <td>0.266302</td>\n",
       "    </tr>\n",
       "  </tbody>\n",
       "</table>\n",
       "</div>"
      ],
      "text/plain": [
       "                 Date  Price(scaled)\n",
       "0 2019-10-01 13:30:00       0.266302\n",
       "1 2019-10-01 13:30:00       0.266302\n",
       "2 2019-10-01 13:30:00       0.266302"
      ]
     },
     "execution_count": 7,
     "metadata": {},
     "output_type": "execute_result"
    }
   ],
   "source": [
    "#df_VXX = df_VXX.set_index('Date')\n",
    "#df_SPY = df_SPY.set_index('Date')\n",
    "df_VXX.head(3)"
   ]
  },
  {
   "cell_type": "code",
   "execution_count": 8,
   "metadata": {
    "scrolled": true
   },
   "outputs": [],
   "source": [
    "import matplotlib.pyplot as plt\n",
    "#plt.plot(df_SPY['Price'][100:1000], df_SPY['Date'][100:1000], color='blue')\n",
    "#plt.plot(df_VXX['Price'][:300], color='red')\n",
    "#df_SPY['Price'][100:1000].plot(color='blue')\n",
    "#df_VXX['Price'][:300].plot(color='red')"
   ]
  },
  {
   "cell_type": "code",
   "execution_count": 9,
   "metadata": {},
   "outputs": [],
   "source": [
    "changes_SPY = []\n",
    "for i in range(0, len(prices_SPY)-1):\n",
    "    change = abs((prices_SPY[i+1] - prices_SPY[i])/prices_SPY[i])\n",
    "    changes_SPY.append(change)\n",
    "    \n",
    "changes_VXX = []\n",
    "for i in range(0, len(prices_VXX)-1):\n",
    "    change = abs((prices_VXX[i+1] - prices_VXX[i])/prices_VXX[i])\n",
    "    changes_VXX.append(change)"
   ]
  },
  {
   "cell_type": "code",
   "execution_count": 10,
   "metadata": {},
   "outputs": [
    {
     "data": {
      "text/plain": [
       "11"
      ]
     },
     "execution_count": 10,
     "metadata": {},
     "output_type": "execute_result"
    }
   ],
   "source": [
    "L_VXX = []\n",
    "for i in range(0, len(changes_VXX)):\n",
    "    if changes_VXX[i] > 0.01:\n",
    "        L_VXX.append(i)\n",
    "        \n",
    "'''L_SPY = []\n",
    "for i in range(0, len(changes_SPY)):\n",
    "    if changes_SPY[i] > 0.001:\n",
    "        L_SPY.append(i)\n",
    "'''\n",
    "len(L_VXX)"
   ]
  },
  {
   "cell_type": "code",
   "execution_count": 11,
   "metadata": {},
   "outputs": [],
   "source": [
    "T_VXX = []\n",
    "#T_SPY = []\n",
    "for i in range(0, len(L_VXX)):\n",
    "    T_VXX.append(times_VXX[L_VXX[i]])\n",
    "#for i in range(0, len(L_SPY)):\n",
    "#    T_SPY.append(times_SPY[L_SPY[i]])"
   ]
  },
  {
   "cell_type": "code",
   "execution_count": 12,
   "metadata": {},
   "outputs": [
    {
     "data": {
      "text/plain": [
       "['2019-10-01 20:13:37',\n",
       " '2019-10-04 20:19:39',\n",
       " '2019-10-07 14:58:16',\n",
       " '2019-10-08 20:54:48',\n",
       " '2019-10-10 20:40:42',\n",
       " '2019-10-14 20:18:50',\n",
       " '2019-10-16 19:59:58',\n",
       " '2019-10-23 19:59:44',\n",
       " '2019-10-25 20:14:45',\n",
       " '2019-10-30 19:59:56',\n",
       " '2019-10-31 19:59:49']"
      ]
     },
     "execution_count": 12,
     "metadata": {},
     "output_type": "execute_result"
    }
   ],
   "source": [
    "T_VXX"
   ]
  },
  {
   "cell_type": "code",
   "execution_count": 13,
   "metadata": {},
   "outputs": [
    {
     "name": "stdout",
     "output_type": "stream",
     "text": [
      "10760\n",
      "90238\n",
      "118270\n",
      "148296\n"
     ]
    }
   ],
   "source": [
    "#2019-10-01 20:13:37\n",
    "#2019-10-16 19:59:58\n",
    "#2019-10-23 19:59:44\n",
    "#2019-10-30 19:59:56\n",
    "\n",
    "index_10_1 = 0\n",
    "for i in range(len(times_SPY)-1, -1, -1):\n",
    "    if times_SPY[i] == '2019-10-01 20:13:37':\n",
    "        index_10_1 = i\n",
    "print(index_10_1)\n",
    "\n",
    "index_10_16 = 0\n",
    "for i in range(len(times_SPY)-1, -1, -1):\n",
    "    if times_SPY[i] == '2019-10-16 19:59:58':\n",
    "        index_10_16 = i\n",
    "print(index_10_16)\n",
    "\n",
    "index_10_23 = 0\n",
    "for i in range(len(times_SPY)-1, -1, -1):\n",
    "    if times_SPY[i] == '2019-10-23 19:59:44':\n",
    "        index_10_23 = i\n",
    "print(index_10_23)\n",
    "\n",
    "index_10_30 = 0\n",
    "for i in range(len(times_SPY)-1, -1, -1):\n",
    "    if times_SPY[i] == '2019-10-30 19:59:56':\n",
    "        index_10_30 = i\n",
    "print(index_10_30)"
   ]
  },
  {
   "cell_type": "code",
   "execution_count": 14,
   "metadata": {},
   "outputs": [
    {
     "name": "stdout",
     "output_type": "stream",
     "text": [
      "2711\n",
      "21475\n",
      "27713\n",
      "34976\n"
     ]
    }
   ],
   "source": [
    "print(L_VXX[0])\n",
    "print(L_VXX[6])\n",
    "print(L_VXX[7])\n",
    "print(L_VXX[9])"
   ]
  },
  {
   "cell_type": "code",
   "execution_count": 15,
   "metadata": {},
   "outputs": [],
   "source": [
    "df_VXX = df_VXX.set_index('Date')\n",
    "df_SPY = df_SPY.set_index('Date')"
   ]
  },
  {
   "cell_type": "code",
   "execution_count": 19,
   "metadata": {},
   "outputs": [],
   "source": [
    "I_SPY = [index_10_1, index_10_16, index_10_23, index_10_30]\n",
    "I_VXX = [L_VXX[0], L_VXX[6], L_VXX[7], L_VXX[9]]"
   ]
  },
  {
   "cell_type": "code",
   "execution_count": 20,
   "metadata": {},
   "outputs": [
    {
     "data": {
      "text/plain": [
       "<matplotlib.axes._subplots.AxesSubplot at 0x7fbd2896b0f0>"
      ]
     },
     "execution_count": 20,
     "metadata": {},
     "output_type": "execute_result"
    },
    {
     "data": {
      "image/png": "[encoded data removed]",
      "text/plain": [
       "<Figure size 432x288 with 1 Axes>"
      ]
     },
     "metadata": {
      "needs_background": "light"
     },
     "output_type": "display_data"
    }
   ],
   "source": [
    "df_SPY['Price(scaled)'][I_SPY[0]:I_SPY[0]+1000].plot(color='blue')\n",
    "df_VXX['Price(scaled)'][I_VXX[0]:I_VXX[0]+300].plot(color='red')"
   ]
  },
  {
   "cell_type": "code",
   "execution_count": 21,
   "metadata": {},
   "outputs": [
    {
     "data": {
      "text/plain": [
       "<matplotlib.axes._subplots.AxesSubplot at 0x7fbd28a2beb8>"
      ]
     },
     "execution_count": 21,
     "metadata": {},
     "output_type": "execute_result"
    },
    {
     "data": {
      "image/png": "[encoded data removed]",
      "text/plain": [
       "<Figure size 432x288 with 1 Axes>"
      ]
     },
     "metadata": {
      "needs_background": "light"
     },
     "output_type": "display_data"
    }
   ],
   "source": [
    "df_SPY['Price(scaled)'][I_SPY[1]:I_SPY[1]+1000].plot(color='blue')\n",
    "df_VXX['Price(scaled)'][I_VXX[1]:I_VXX[1]+300].plot(color='red')"
   ]
  },
  {
   "cell_type": "code",
   "execution_count": 22,
   "metadata": {},
   "outputs": [
    {
     "data": {
      "text/plain": [
       "<matplotlib.axes._subplots.AxesSubplot at 0x7fbd28713a58>"
      ]
     },
     "execution_count": 22,
     "metadata": {},
     "output_type": "execute_result"
    },
    {
     "data": {
      "image/png": "[encoded data removed]",
      "text/plain": [
       "<Figure size 432x288 with 1 Axes>"
      ]
     },
     "metadata": {
      "needs_background": "light"
     },
     "output_type": "display_data"
    }
   ],
   "source": [
    "df_SPY['Price(scaled)'][I_SPY[2]:I_SPY[2]+1000].plot(color='blue')\n",
    "df_VXX['Price(scaled)'][I_VXX[2]:I_VXX[2]+300].plot(color='red')"
   ]
  },
  {
   "cell_type": "code",
   "execution_count": 23,
   "metadata": {},
   "outputs": [
    {
     "data": {
      "text/plain": [
       "<matplotlib.axes._subplots.AxesSubplot at 0x7fbd2a11f2b0>"
      ]
     },
     "execution_count": 23,
     "metadata": {},
     "output_type": "execute_result"
    },
    {
     "data": {
      "image/png": "[encoded data removed]",
      "text/plain": [
       "<Figure size 432x288 with 1 Axes>"
      ]
     },
     "metadata": {
      "needs_background": "light"
     },
     "output_type": "display_data"
    }
   ],
   "source": [
    "df_SPY['Price(scaled)'][I_SPY[3]:I_SPY[3]+1000].plot(color='blue')\n",
    "df_VXX['Price(scaled)'][I_VXX[3]:I_VXX[3]+300].plot(color='red')"
   ]
  },
  {
   "cell_type": "code",
   "execution_count": null,
   "metadata": {},
   "outputs": [],
   "source": []
  },
  {
   "cell_type": "code",
   "execution_count": null,
   "metadata": {},
   "outputs": [],
   "source": []
  },
  {
   "cell_type": "code",
   "execution_count": null,
   "metadata": {},
   "outputs": [],
   "source": []
  },
  {
   "cell_type": "code",
   "execution_count": null,
   "metadata": {},
   "outputs": [],
   "source": []
  },
  {
   "cell_type": "code",
   "execution_count": null,
   "metadata": {},
   "outputs": [],
   "source": []
  },
  {
   "cell_type": "code",
   "execution_count": null,
   "metadata": {},
   "outputs": [],
   "source": []
  },
  {
   "cell_type": "code",
   "execution_count": null,
   "metadata": {},
   "outputs": [],
   "source": []
  }
 ],
 "metadata": {
  "kernelspec": {
   "display_name": "Python 3",
   "language": "python",
   "name": "python3"
  },
  "language_info": {
   "codemirror_mode": {
    "name": "ipython",
    "version": 3
   },
   "file_extension": ".py",
   "mimetype": "text/x-python",
   "name": "python",
   "nbconvert_exporter": "python",
   "pygments_lexer": "ipython3",
   "version": "3.7.3"
  }
 },
 "nbformat": 4,
 "nbformat_minor": 2
}
